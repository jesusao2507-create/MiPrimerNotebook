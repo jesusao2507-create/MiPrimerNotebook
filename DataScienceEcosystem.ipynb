{
 "cells": [
  {
   "cell_type": "markdown",
   "id": "0fb15c57",
   "metadata": {},
   "source": [
    "# Ecosistema de Ciencia de datos herramientas y ecosistema"
   ]
  },
  {
   "cell_type": "markdown",
   "id": "1c6f8484",
   "metadata": {},
   "source": [
    "## Objetivos:\n",
    "- Enlistar algunos de los lenguajes mas populares de codigo habierto utilizados en la ciencia de datos\n",
    "- Enumerar cuales son algunas de las librerias mas usadas en la ciencia de datos\n",
    "- Realziar pequeñas operaciones aritmeticas utilziando codigo python"
   ]
  },
  {
   "cell_type": "markdown",
   "id": "5b4288a0",
   "metadata": {},
   "source": [
    "### En este cuaderno, se resumen las herramientas y ecosistemas de ciencias de datos"
   ]
  },
  {
   "cell_type": "markdown",
   "id": "520cd143",
   "metadata": {},
   "source": [
    "algunos de los lenguajes mas populares utilizados en ciencia de datos son:\n",
    "1. Python\n",
    "2. Julia\n",
    "3. R"
   ]
  },
  {
   "cell_type": "markdown",
   "id": "0b757251",
   "metadata": {},
   "source": [
    "Algunas de las librerias comunmente usadas en la ciencia de datos son:\n",
    "1. Pandas\n",
    "2. Numpy \n",
    "3. Matplotlib\n",
    "4. Scikit-learn\n",
    "5. Seaborn"
   ]
  },
  {
   "cell_type": "markdown",
   "id": "91c9fced",
   "metadata": {},
   "source": [
    "Algunas herramientas de las ciencia de datos son:\n",
    "| Data Science Tools |\n",
    "| ---- |\n",
    "|Python|\n",
    "| Jupyter Notebook |\n",
    "| Jupyter Lab |"
   ]
  },
  {
   "cell_type": "markdown",
   "id": "6db659ab",
   "metadata": {},
   "source": [
    "### A continuación se presentan algunos ejemplos de evaluación de expresiones aritméticas en Python."
   ]
  },
  {
   "cell_type": "code",
   "execution_count": 1,
   "id": "ad59f9fc",
   "metadata": {},
   "outputs": [
    {
     "data": {
      "text/plain": [
       "17"
      ]
     },
     "execution_count": 1,
     "metadata": {},
     "output_type": "execute_result"
    }
   ],
   "source": [
    "# Esta es una simple multiplicacion y suma de enteros\n",
    "(3*4)+5"
   ]
  },
  {
   "cell_type": "code",
   "execution_count": 3,
   "id": "5370b61f",
   "metadata": {},
   "outputs": [
    {
     "name": "stdout",
     "output_type": "stream",
     "text": [
      "3\n"
     ]
    }
   ],
   "source": [
    "# Esta exprecion convierte 200 minutos a horas\n",
    "minutes = 200 \n",
    "hours = minutes // 60\n",
    "\n",
    "print(hours)"
   ]
  },
  {
   "cell_type": "markdown",
   "id": "90dbb4c0",
   "metadata": {},
   "source": [
    "## Autor \n",
    "Alvarez Osornio Jesús "
   ]
  }
 ],
 "metadata": {
  "kernelspec": {
   "display_name": "Python 3",
   "language": "python",
   "name": "python3"
  },
  "language_info": {
   "codemirror_mode": {
    "name": "ipython",
    "version": 3
   },
   "file_extension": ".py",
   "mimetype": "text/x-python",
   "name": "python",
   "nbconvert_exporter": "python",
   "pygments_lexer": "ipython3",
   "version": "3.13.5"
  }
 },
 "nbformat": 4,
 "nbformat_minor": 5
}
